{
 "cells": [
  {
   "cell_type": "code",
   "execution_count": 32,
   "metadata": {},
   "outputs": [],
   "source": [
    "roads=[[1,2],[1,3],[3,4],[3,5]]\n",
    "edges={}\n",
    "for a,b in roads:\n",
    "    edges.setdefault(a,set()).add(b)\n",
    "    edges.setdefault(b,set())\n"
   ]
  },
  {
   "cell_type": "code",
   "execution_count": null,
   "metadata": {},
   "outputs": [],
   "source": [
    "else:\n",
    "            Obj_ratio['max']=np.maximum(Obj_ratio['max'],abs(SK['Obj']-solution['Obj']))\n",
    "            Obj_ratio['mean']+=(abs(SK['Obj']-solution['Obj'])/N)\n",
    "            Obj_ratio['min']=np.minimum(abs(SK['Obj']-solution['Obj']),Obj_ratio['min'])\n",
    "            distance_ratio['max']=np.maximum(distance_ratio['max'],SK['distance'])\n",
    "            distance_ratio['mean']+=(SK['distance']/N)\n",
    "            distance_ratio['min']=np.minimum(SK['distance'],Obj_ratio['min'])\n",
    "        "
   ]
  },
  {
   "cell_type": "code",
   "execution_count": 13,
   "metadata": {},
   "outputs": [
    {
     "name": "stdout",
     "output_type": "stream",
     "text": [
      "5\n",
      "4\n",
      "3\n",
      "2\n",
      "1\n"
     ]
    }
   ],
   "source": [
    "edges\n",
    "for key in reversed(edges):\n",
    "    print(key)"
   ]
  },
  {
   "cell_type": "code",
   "execution_count": 33,
   "metadata": {},
   "outputs": [
    {
     "name": "stdout",
     "output_type": "stream",
     "text": [
      "2\n",
      "4\n",
      "5\n"
     ]
    }
   ],
   "source": [
    "for i in edges:\n",
    "    if edges[i]==set():\n",
    "        print(i)"
   ]
  },
  {
   "cell_type": "code",
   "execution_count": 14,
   "metadata": {},
   "outputs": [
    {
     "data": {
      "text/plain": [
       "6"
      ]
     },
     "execution_count": 14,
     "metadata": {},
     "output_type": "execute_result"
    }
   ],
   "source": [
    "sum([1,2,3])"
   ]
  },
  {
   "cell_type": "code",
   "execution_count": 15,
   "metadata": {},
   "outputs": [],
   "source": [
    "import math"
   ]
  },
  {
   "cell_type": "code",
   "execution_count": 21,
   "metadata": {},
   "outputs": [
    {
     "data": {
      "text/plain": [
       "[[0, 0], [0, 0], [0, 0], [0, 0], [0, 0]]"
      ]
     },
     "execution_count": 21,
     "metadata": {},
     "output_type": "execute_result"
    }
   ],
   "source": [
    "[[0,0]]*5"
   ]
  },
  {
   "cell_type": "code",
   "execution_count": 40,
   "metadata": {},
   "outputs": [
    {
     "name": "stdout",
     "output_type": "stream",
     "text": [
      "[[0, 0], [0, 0], [0, 0], [0, 0], [0, 0], [0, 0]]\n",
      "0\n",
      "1\n",
      "1\n"
     ]
    },
    {
     "data": {
      "text/plain": [
       "[[3, 4], [3, 4], [3, 4], [3, 4], [3, 4], [3, 4]]"
      ]
     },
     "execution_count": 40,
     "metadata": {},
     "output_type": "execute_result"
    }
   ],
   "source": [
    "def kingdomDivision(n, roads):\n",
    "    # Write your code here  global dp\n",
    "    dp=[[0,0]]*(n+1)\n",
    "  \n",
    "    edges={}\n",
    "    for a,b in roads:\n",
    "        edges.setdefault(a,set()).add(b)\n",
    "        edges.setdefault(b,set())\n",
    "    print(dp)\n",
    "    for i in edges:\n",
    "        if edges[i]==set():\n",
    "            print(dp[i])\n",
    "            dp[i][0]=0\n",
    "            dp[i][1]=1\n",
    "            print(i)\n",
    "            print(dp)\n",
    "    print(edges)\n",
    "    print(dp)\n",
    "    for i in reversed(edges):\n",
    "        if not edges[i]==set():\n",
    "            chilSKen=edges[i]\n",
    "            dp[i][1]=math.prod([(dp[child][0]+dp[child][1]) for child in chilSKen])\n",
    "            dp[i][0]=dp[i][1]-math.prod([dp[child][0] for child in chilSKen])\n",
    "    \n",
    "    return dp\n",
    "    \n",
    "kingdomDivision(5,roads)\n"
   ]
  },
  {
   "cell_type": "code",
   "execution_count": 45,
   "metadata": {},
   "outputs": [
    {
     "name": "stdout",
     "output_type": "stream",
     "text": [
      "[[0, 0], [2, 2], [0, 1], [1, 1], [0, 1], [0, 1]]\n"
     ]
    }
   ],
   "source": [
    "import math\n",
    "\n",
    "def kingdomDivision(n, roads):\n",
    "    # Initialize dp list with n+1 sublists, each containing [0, 0]\n",
    "    dp = [[0, 0] for _ in range(n + 1)]\n",
    "  \n",
    "    edges = {}\n",
    "    for a, b in roads:\n",
    "        edges.setdefault(a, set()).add(b)\n",
    "        edges.setdefault(b, set())\n",
    "    \n",
    "    for i in edges:\n",
    "        if not edges[i]:  # Check if the set is empty\n",
    "            dp[i][0] = 0\n",
    "            dp[i][1] = 1\n",
    "    \n",
    "    for i in reversed(range(1, n + 1)):\n",
    "        if edges[i]:  # Check if the set is not empty\n",
    "            chilSKen = edges[i]\n",
    "            dp[i][1] = math.prod([(dp[child][0] + dp[child][1]) for child in chilSKen])\n",
    "            dp[i][0] = dp[i][1] - math.prod([dp[child][0] for child in chilSKen])\n",
    "    \n",
    "    return dp[1][0]*2\n",
    "\n",
    "# Example usage:\n",
    "n = 5\n",
    "roads = [(1, 2), (1, 3), (3, 4), (3, 5)]\n",
    "print(kingdomDivision(n, roads))\n"
   ]
  },
  {
   "cell_type": "code",
   "execution_count": null,
   "metadata": {},
   "outputs": [],
   "source": [
    "def kingdomDivision(n, roads):\n",
    "    import math\n",
    "\n",
    "    dp = [[0, 0] for _ in range(n + 1)]\n",
    "    edges = {}\n",
    "    for a, b in roads:\n",
    "        edges.setdefault(a, set()).add(b)\n",
    "        edges.setdefault(b, set())\n",
    "\n",
    "    high = {node: 0 for node in edges}\n",
    "\n",
    "    def dfs(tree, root):\n",
    "        if tree[root] == set():\n",
    "            high[root] = 1\n",
    "        else:\n",
    "            max_height = 0\n",
    "            for i in tree[root]:\n",
    "                dfs(tree, i)\n",
    "                if max_height < high[i]:\n",
    "                    max_height = high[i]\n",
    "            high[root] = max_height + 1\n",
    "\n",
    "    dfs(edges, 1)\n",
    "    nodes = {i: set() for i in range(1, high[1] + 1, 1)}\n",
    "    for node in high:\n",
    "        nodes[high[node]].add(node)\n",
    "\n",
    "    for h in nodes:\n",
    "        for node in nodes[h]:\n",
    "            if h == 1:\n",
    "                dp[node][0] = 0\n",
    "                dp[node][1] = 1\n",
    "            else:\n",
    "                children = edges[node]\n",
    "                dp[node][1] = math.prod([(dp[child][0] + dp[child][1]) for child in children])\n",
    "                dp[node][0] = dp[node][1] - math.prod([dp[child][0] for child in children])\n",
    "\n",
    "    return 2 * dp[1][0]\n"
   ]
  }
 ],
 "metadata": {
  "kernelspec": {
   "display_name": "test",
   "language": "python",
   "name": "python3"
  },
  "language_info": {
   "codemirror_mode": {
    "name": "ipython",
    "version": 3
   },
   "file_extension": ".py",
   "mimetype": "text/x-python",
   "name": "python",
   "nbconvert_exporter": "python",
   "pygments_lexer": "ipython3",
   "version": "3.10.13"
  },
  "orig_nbformat": 4
 },
 "nbformat": 4,
 "nbformat_minor": 2
}
